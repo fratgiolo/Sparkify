{
 "cells": [
  {
   "cell_type": "markdown",
   "metadata": {},
   "source": [
    "# Sparkify Project Workspace\n",
    "This workspace contains a tiny subset (128MB) of the full dataset available (12GB). Feel free to use this workspace to build your project, or to explore a smaller subset with Spark before deploying your cluster on the cloud. Instructions for setting up your Spark cluster is included in the last lesson of the Extracurricular Spark Course content.\n",
    "\n",
    "You can follow the steps below to guide your data analysis and model building portion of this project."
   ]
  },
  {
   "cell_type": "code",
   "execution_count": 49,
   "metadata": {},
   "outputs": [],
   "source": [
    "#Importing Libraries\n",
    "import re\n",
    "import datetime\n",
    "import matplotlib.pyplot as plt\n",
    "import pandas as pd\n",
    "import seaborn as sns\n",
    "import numpy as np\n",
    "from pyspark.ml.evaluation import MulticlassClassificationEvaluator\n",
    "from pyspark.ml.feature import CountVectorizer, IDF, Normalizer, PCA, RegexTokenizer, StandardScaler, StopWordsRemover, StringIndexer, VectorAssembler\n",
    "from pyspark.ml.regression import LinearRegression\n",
    "from pyspark.ml.tuning import CrossValidator, ParamGridBuilder\n",
    "from pyspark.sql import SparkSession\n",
    "from pyspark.sql.functions import avg, col, concat, desc, explode, lit, min, max, split, udf, isnull, countDistinct\n",
    "from pyspark.sql.functions import isnull, when, count, col\n",
    "from pyspark.sql.types import IntegerType\n",
    "from pyspark.ml import Pipeline\n",
    "from pyspark.ml.classification import LinearSVC, GBTClassifier, DecisionTreeClassifier, NaiveBayes"
   ]
  },
  {
   "cell_type": "code",
   "execution_count": 2,
   "metadata": {},
   "outputs": [],
   "source": [
    "# create a Spark session\n",
    "spark = SparkSession \\\n",
    "    .builder \\\n",
    "    .appName(\"Sparkify\") \\\n",
    "    .getOrCreate()"
   ]
  },
  {
   "cell_type": "markdown",
   "metadata": {},
   "source": [
    "# Load and Clean Dataset\n",
    "In this workspace, the mini-dataset file is `mini_sparkify_event_data.json`. Load and clean the dataset, checking for invalid or missing data - for example, records without userids or sessionids. "
   ]
  },
  {
   "cell_type": "code",
   "execution_count": 3,
   "metadata": {},
   "outputs": [
    {
     "data": {
      "text/plain": [
       "Row(artist='Martha Tilston', auth='Logged In', firstName='Colin', gender='M', itemInSession=50, lastName='Freeman', length=277.89016, level='paid', location='Bakersfield, CA', method='PUT', page='NextSong', registration=1538173362000, sessionId=29, song='Rockpools', status=200, ts=1538352117000, userAgent='Mozilla/5.0 (Windows NT 6.1; WOW64; rv:31.0) Gecko/20100101 Firefox/31.0', userId='30')"
      ]
     },
     "execution_count": 3,
     "metadata": {},
     "output_type": "execute_result"
    }
   ],
   "source": [
    "# Loading the mini sparkify dataset\n",
    "sparkify_mini_dataset = 'mini_sparkify_event_data.json'\n",
    "df = spark.read.json(sparkify_mini_dataset)\n",
    "df.head()"
   ]
  },
  {
   "cell_type": "markdown",
   "metadata": {},
   "source": [
    "### Checking for Empty User ids and Session Ids"
   ]
  },
  {
   "cell_type": "code",
   "execution_count": 4,
   "metadata": {},
   "outputs": [
    {
     "data": {
      "text/plain": [
       "286500"
      ]
     },
     "execution_count": 4,
     "metadata": {},
     "output_type": "execute_result"
    }
   ],
   "source": [
    "# Number of records in the dataset\n",
    "df.count()"
   ]
  },
  {
   "cell_type": "code",
   "execution_count": 5,
   "metadata": {},
   "outputs": [
    {
     "name": "stdout",
     "output_type": "stream",
     "text": [
      "+------+----+---------+------+-------------+--------+------+-----+--------+------+----+------------+---------+-----+------+---+---------+------+\n",
      "|artist|auth|firstName|gender|itemInSession|lastName|length|level|location|method|page|registration|sessionId| song|status| ts|userAgent|userId|\n",
      "+------+----+---------+------+-------------+--------+------+-----+--------+------+----+------------+---------+-----+------+---+---------+------+\n",
      "| 58392|   0|     8346|  8346|            0|    8346| 58392|    0|    8346|     0|   0|        8346|        0|58392|     0|  0|     8346|     0|\n",
      "+------+----+---------+------+-------------+--------+------+-----+--------+------+----+------------+---------+-----+------+---+---------+------+\n",
      "\n"
     ]
    }
   ],
   "source": [
    "#There seems to be no na or null values for sessionId and UserId\n",
    "from pyspark.sql.functions import isnan, when, count, col\n",
    "df.select([count(when(isnan(c) | col(c).isNull(), c)).alias(c) for c in df.columns]).show()"
   ]
  },
  {
   "cell_type": "code",
   "execution_count": 9,
   "metadata": {},
   "outputs": [
    {
     "data": {
      "text/plain": [
       "0"
      ]
     },
     "execution_count": 9,
     "metadata": {},
     "output_type": "execute_result"
    }
   ],
   "source": [
    "#Checking for Empty Values in userId\n",
    "from pyspark.sql.functions import isnan\n",
    "df.filter((df[\"userId\"] == \"\") | df[\"UserId\"].isNull() | isnan(df[\"UserId\"])).count()"
   ]
  },
  {
   "cell_type": "code",
   "execution_count": 10,
   "metadata": {},
   "outputs": [
    {
     "data": {
      "text/plain": [
       "0"
      ]
     },
     "execution_count": 10,
     "metadata": {},
     "output_type": "execute_result"
    }
   ],
   "source": [
    "#Checking for Empty Values in sessionId\n",
    "from pyspark.sql.functions import isnan\n",
    "df.filter((df[\"sessionId\"] == \"\") | df[\"sessionId\"].isNull() | isnan(df[\"sessionId\"])).count()"
   ]
  },
  {
   "cell_type": "code",
   "execution_count": 11,
   "metadata": {},
   "outputs": [
    {
     "data": {
      "text/plain": [
       "278154"
      ]
     },
     "execution_count": 11,
     "metadata": {},
     "output_type": "execute_result"
    }
   ],
   "source": [
    "df = df.filter(df.userId!=\"\")\n",
    "df.count()"
   ]
  },
  {
   "cell_type": "markdown",
   "metadata": {},
   "source": [
    "# Exploratory Data Analysis\n",
    "When you're working with the full dataset, perform EDA by loading a small subset of the data and doing basic manipulations within Spark. In this workspace, you are already provided a small subset of data you can explore.\n",
    "\n",
    "### Define Churn\n",
    "\n",
    "Once you've done some preliminary analysis, create a column `Churn` to use as the label for your model. I suggest using the `Cancellation Confirmation` events to define your churn, which happen for both paid and free users. As a bonus task, you can also look into the `Downgrade` events.\n",
    "\n",
    "### Explore Data\n",
    "Once you've defined churn, perform some exploratory data analysis to observe the behavior for users who stayed vs users who churned. You can start by exploring aggregates on these two groups of users, observing how much of a specific action they experienced per a certain time unit or number of songs played."
   ]
  },
  {
   "cell_type": "markdown",
   "metadata": {},
   "source": [
    "### Analysing data for users who cancelled sparkify"
   ]
  },
  {
   "cell_type": "code",
   "execution_count": 12,
   "metadata": {},
   "outputs": [
    {
     "name": "stdout",
     "output_type": "stream",
     "text": [
      "+-------------------------+\n",
      "|page                     |\n",
      "+-------------------------+\n",
      "|Cancel                   |\n",
      "|Submit Downgrade         |\n",
      "|Thumbs Down              |\n",
      "|Home                     |\n",
      "|Downgrade                |\n",
      "|Roll Advert              |\n",
      "|Logout                   |\n",
      "|Save Settings            |\n",
      "|Cancellation Confirmation|\n",
      "|About                    |\n",
      "|Settings                 |\n",
      "|Add to Playlist          |\n",
      "|Add Friend               |\n",
      "|NextSong                 |\n",
      "|Thumbs Up                |\n",
      "|Help                     |\n",
      "|Upgrade                  |\n",
      "|Error                    |\n",
      "|Submit Upgrade           |\n",
      "+-------------------------+\n",
      "\n"
     ]
    }
   ],
   "source": [
    "df.select(\"page\").distinct().show(100,False)"
   ]
  },
  {
   "cell_type": "code",
   "execution_count": 13,
   "metadata": {},
   "outputs": [
    {
     "name": "stdout",
     "output_type": "stream",
     "text": [
      "+------+\n",
      "|userId|\n",
      "+------+\n",
      "|   125|\n",
      "|    51|\n",
      "|    54|\n",
      "|100014|\n",
      "|   101|\n",
      "|    29|\n",
      "|100021|\n",
      "|    87|\n",
      "|    73|\n",
      "|     3|\n",
      "+------+\n",
      "only showing top 10 rows\n",
      "\n"
     ]
    }
   ],
   "source": [
    "#Focusing on users under \"Cancellation Confirmation\"\n",
    "df.filter(df.page==\"Cancellation Confirmation\").select(\"userId\").dropDuplicates().show(10)"
   ]
  },
  {
   "cell_type": "code",
   "execution_count": 14,
   "metadata": {},
   "outputs": [
    {
     "name": "stdout",
     "output_type": "stream",
     "text": [
      "+------+-----------+------+-----+-----------------------------+---------+-------------+\n",
      "|userId|page       |gender|level|song                         |sessionId|ts           |\n",
      "+------+-----------+------+-----+-----------------------------+---------+-------------+\n",
      "|125   |NextSong   |M     |free |paranoid android             |174      |1539317144000|\n",
      "|125   |NextSong   |M     |free |Hypnotize(Album Version)     |174      |1539317481000|\n",
      "|125   |NextSong   |M     |free |I'm On My Way                |174      |1539317711000|\n",
      "|125   |NextSong   |M     |free |Leader Of Men (Album Version)|174      |1539317914000|\n",
      "|125   |NextSong   |M     |free |Love You Down                |174      |1539318124000|\n",
      "|125   |NextSong   |M     |free |Don't Leave Me Behind        |174      |1539318515000|\n",
      "|125   |NextSong   |M     |free |They're Red Hot              |174      |1539318728000|\n",
      "|125   |NextSong   |M     |free |Kota                         |174      |1539318906000|\n",
      "|125   |Roll Advert|M     |free |null                         |174      |1539318917000|\n",
      "|125   |Cancel     |M     |free |null                         |174      |1539318918000|\n",
      "+------+-----------+------+-----+-----------------------------+---------+-------------+\n",
      "only showing top 10 rows\n",
      "\n"
     ]
    }
   ],
   "source": [
    "#Having a look at a customer who cancelled\n",
    "df.select([\"userId\", \"page\", \"gender\", \"level\", \"song\", \"sessionId\",\"ts\"]).where(df.userId == \"125\").show(10, False)"
   ]
  },
  {
   "cell_type": "code",
   "execution_count": 15,
   "metadata": {},
   "outputs": [],
   "source": [
    "#Ts is not really readable in the above table\n",
    "#Adjusting TS format to make it readable\n",
    "timestamp = udf(lambda x: datetime.datetime.fromtimestamp(x / 1000.0).strftime(\"%Y-%m-%d %H:%M:%S\"))\n",
    "df = df.withColumn(\"time\", timestamp(df.ts))"
   ]
  },
  {
   "cell_type": "code",
   "execution_count": 16,
   "metadata": {},
   "outputs": [
    {
     "name": "stdout",
     "output_type": "stream",
     "text": [
      "+------+-----------+------+-----+-----------------------------+---------+-------------------+\n",
      "|userId|page       |gender|level|song                         |sessionId|time               |\n",
      "+------+-----------+------+-----+-----------------------------+---------+-------------------+\n",
      "|125   |NextSong   |M     |free |paranoid android             |174      |2018-10-12 04:05:44|\n",
      "|125   |NextSong   |M     |free |Hypnotize(Album Version)     |174      |2018-10-12 04:11:21|\n",
      "|125   |NextSong   |M     |free |I'm On My Way                |174      |2018-10-12 04:15:11|\n",
      "|125   |NextSong   |M     |free |Leader Of Men (Album Version)|174      |2018-10-12 04:18:34|\n",
      "|125   |NextSong   |M     |free |Love You Down                |174      |2018-10-12 04:22:04|\n",
      "|125   |NextSong   |M     |free |Don't Leave Me Behind        |174      |2018-10-12 04:28:35|\n",
      "|125   |NextSong   |M     |free |They're Red Hot              |174      |2018-10-12 04:32:08|\n",
      "|125   |NextSong   |M     |free |Kota                         |174      |2018-10-12 04:35:06|\n",
      "|125   |Roll Advert|M     |free |null                         |174      |2018-10-12 04:35:17|\n",
      "|125   |Cancel     |M     |free |null                         |174      |2018-10-12 04:35:18|\n",
      "+------+-----------+------+-----+-----------------------------+---------+-------------------+\n",
      "only showing top 10 rows\n",
      "\n"
     ]
    }
   ],
   "source": [
    "df.select([\"userId\", \"page\", \"gender\", \"level\", \"song\", \"sessionId\",\"time\"]).where(df.userId == \"125\").show(10, False)"
   ]
  },
  {
   "cell_type": "markdown",
   "metadata": {},
   "source": [
    "### Flagging churn customers from population"
   ]
  },
  {
   "cell_type": "code",
   "execution_count": 17,
   "metadata": {},
   "outputs": [],
   "source": [
    "#Selecting customer with page = \"Cancellation Confirmation\"\n",
    "churned_users = df.filter(df.page==\"Cancellation Confirmation\").select(\"userId\")\n",
    "#dedup\n",
    "chunder_users_dd=churned_users.dropDuplicates()\n",
    "users = [(row['userId']) for row in chunder_users_dd.collect()]\n",
    "df = df.withColumn(\"churn\", df.userId.isin(users))"
   ]
  },
  {
   "cell_type": "code",
   "execution_count": 18,
   "metadata": {},
   "outputs": [
    {
     "name": "stdout",
     "output_type": "stream",
     "text": [
      "+-----+----------------------+\n",
      "|churn|count(DISTINCT userId)|\n",
      "+-----+----------------------+\n",
      "| true|                    52|\n",
      "|false|                   173|\n",
      "+-----+----------------------+\n",
      "\n"
     ]
    }
   ],
   "source": [
    "#True and false distribution for churn\n",
    "df.groupBy('churn').agg(countDistinct(\"userId\")).show()"
   ]
  },
  {
   "cell_type": "code",
   "execution_count": 19,
   "metadata": {},
   "outputs": [
    {
     "data": {
      "text/plain": [
       "<matplotlib.axes._subplots.AxesSubplot at 0x7f2435fc2cc0>"
      ]
     },
     "execution_count": 19,
     "metadata": {},
     "output_type": "execute_result"
    },
    {
     "data": {
      "image/png": "[encoded data removed]",
      "text/plain": [
       "<matplotlib.figure.Figure at 0x7f2435fc2550>"
      ]
     },
     "metadata": {
      "needs_background": "light"
     },
     "output_type": "display_data"
    }
   ],
   "source": [
    "df_barchart = df.dropDuplicates([\"userId\", \"churn\"]).groupby([\"churn\"]).count().sort(\"churn\").toPandas()\n",
    "sns.barplot(x='churn', y='count', data=df_barchart)"
   ]
  },
  {
   "cell_type": "code",
   "execution_count": 20,
   "metadata": {},
   "outputs": [],
   "source": [
    "churned = df.filter(df.churn==1).count()\n",
    "not_churned = df.filter(df.churn==0).count()"
   ]
  },
  {
   "cell_type": "markdown",
   "metadata": {},
   "source": [
    "### Studying variables based on churn column"
   ]
  },
  {
   "cell_type": "code",
   "execution_count": 21,
   "metadata": {},
   "outputs": [
    {
     "data": {
      "text/plain": [
       "<matplotlib.axes._subplots.AxesSubplot at 0x7f243577eba8>"
      ]
     },
     "execution_count": 21,
     "metadata": {},
     "output_type": "execute_result"
    },
    {
     "data": {
      "image/png": "[encoded data removed]",
      "text/plain": [
       "<matplotlib.figure.Figure at 0x7f24666be978>"
      ]
     },
     "metadata": {
      "needs_background": "light"
     },
     "output_type": "display_data"
    }
   ],
   "source": [
    "#Studying which pages churned users have used vs non churned\n",
    "page_count_churn = df.filter(df.churn==1).filter(df.page!=\"NextSong\").groupby([\"page\"]).count()\n",
    "df_churned_bypage = page_count_churn.withColumn(\"Churned_Freq\", page_count_churn[\"count\"]/(churned/100)).sort(\"page\")\n",
    "\n",
    "page_count_nochurn = df.filter(df.churn==0).filter(df.page!=\"NextSong\").groupby([\"page\"]).count()\n",
    "df_nchurned_bypage = page_count_nochurn.withColumn(\"NoChurn_Freq\", page_count_nochurn[\"count\"]/(not_churned/100)).sort(\"page\")\n",
    "\n",
    "df_to_plot = df_churned_bypage.join(df_nchurned_bypage, \"page\", \"outer\").drop(\"count\").fillna(0).toPandas()\n",
    "df_to_plot.plot.bar(\"page\",figsize=(15,15))"
   ]
  },
  {
   "cell_type": "code",
   "execution_count": 22,
   "metadata": {},
   "outputs": [
    {
     "data": {
      "text/plain": [
       "<matplotlib.axes._subplots.AxesSubplot at 0x7f243600d5f8>"
      ]
     },
     "execution_count": 22,
     "metadata": {},
     "output_type": "execute_result"
    },
    {
     "data": {
      "image/png": "[encoded data removed]",
      "text/plain": [
       "<matplotlib.figure.Figure at 0x7f2435fd8c88>"
      ]
     },
     "metadata": {
      "needs_background": "light"
     },
     "output_type": "display_data"
    }
   ],
   "source": [
    "# Males and Females ratio\n",
    "df_to_plot = df.dropDuplicates([\"userId\", \"gender\"]).groupby([\"churn\", \"gender\"]).count().sort(\"churn\").toPandas()\n",
    "sns.barplot(x='churn', y='count', hue='gender', data=df_to_plot)"
   ]
  },
  {
   "cell_type": "code",
   "execution_count": 23,
   "metadata": {},
   "outputs": [
    {
     "data": {
      "text/plain": [
       "<matplotlib.axes._subplots.AxesSubplot at 0x7f2434e9aa90>"
      ]
     },
     "execution_count": 23,
     "metadata": {},
     "output_type": "execute_result"
    },
    {
     "data": {
      "image/png": "[encoded data removed]",
      "text/plain": [
       "<matplotlib.figure.Figure at 0x7f243580bd68>"
      ]
     },
     "metadata": {
      "needs_background": "light"
     },
     "output_type": "display_data"
    }
   ],
   "source": [
    "#Paid VS Free\n",
    "df_to_plot = df.filter(df.page==\"Cancellation Confirmation\").groupby(\"level\").count().toPandas()\n",
    "sns.barplot(x=\"level\", y=\"count\", data=df_to_plot)"
   ]
  },
  {
   "cell_type": "code",
   "execution_count": 24,
   "metadata": {},
   "outputs": [
    {
     "data": {
      "text/plain": [
       "<matplotlib.axes._subplots.AxesSubplot at 0x7f2434dec748>"
      ]
     },
     "execution_count": 24,
     "metadata": {},
     "output_type": "execute_result"
    },
    {
     "data": {
      "image/png": "[encoded data removed]",
      "text/plain": [
       "<matplotlib.figure.Figure at 0x7f2434de7c50>"
      ]
     },
     "metadata": {
      "needs_background": "light"
     },
     "output_type": "display_data"
    }
   ],
   "source": [
    "#Thumbs up Vs Thumbs Down\n",
    "df_to_plot = df.filter(df.page==\"Cancellation Confirmation\").groupby(\"level\").count().toPandas()\n",
    "sns.barplot(x=\"level\", y=\"count\", data=df_to_plot)"
   ]
  },
  {
   "cell_type": "markdown",
   "metadata": {},
   "source": [
    "# Feature Engineering\n",
    "Once you've familiarized yourself with the data, build out the features you find promising to train your model on. To work with the full dataset, you can follow the following steps.\n",
    "- Write a script to extract the necessary features from the smaller subset of data\n",
    "- Ensure that your script is scalable, using the best practices discussed in Lesson 3\n",
    "- Try your script on the full data set, debugging your script if necessary\n",
    "\n",
    "If you are working in the classroom workspace, you can just extract features based on the small subset of data contained here. Be sure to transfer over this work to the larger dataset when you work on your Spark cluster."
   ]
  },
  {
   "cell_type": "code",
   "execution_count": 25,
   "metadata": {},
   "outputs": [
    {
     "name": "stdout",
     "output_type": "stream",
     "text": [
      "+------+------+\n",
      "|userId|gender|\n",
      "+------+------+\n",
      "|    44|     0|\n",
      "|    46|     0|\n",
      "|    41|     0|\n",
      "|    72|     0|\n",
      "|300023|     0|\n",
      "+------+------+\n",
      "only showing top 5 rows\n",
      "\n"
     ]
    }
   ],
   "source": [
    "#Feature n1: Gender\n",
    "#Converting Gender to numeric\n",
    "Feature_n1 = df.select('userId', 'gender').dropDuplicates().replace(['F', 'M'], ['0', '1'], 'gender').select('userId', col('gender').cast('int'))\n",
    "Feature_n1.show(5)"
   ]
  },
  {
   "cell_type": "code",
   "execution_count": 26,
   "metadata": {},
   "outputs": [
    {
     "name": "stdout",
     "output_type": "stream",
     "text": [
      "+------+-------------------+\n",
      "|userId|total_time_listened|\n",
      "+------+-------------------+\n",
      "|100010|  66940.89735000003|\n",
      "|200002|  94008.87593999993|\n",
      "|   125| 2089.1131000000005|\n",
      "|    51|  523275.8428000004|\n",
      "|   124| 1012312.0927899999|\n",
      "+------+-------------------+\n",
      "only showing top 5 rows\n",
      "\n"
     ]
    }
   ],
   "source": [
    "#Feature n2: Total time spent listening for all services\n",
    "Feature_n2 = df.select(\"userId\", 'length').groupBy('userId').sum().withColumnRenamed('sum(length)', 'total_time_listened')\n",
    "Feature_n2.show(5)"
   ]
  },
  {
   "cell_type": "code",
   "execution_count": 27,
   "metadata": {},
   "outputs": [
    {
     "name": "stdout",
     "output_type": "stream",
     "text": [
      "+------+-----------------+\n",
      "|userId|total_thumbs_down|\n",
      "+------+-----------------+\n",
      "|100010|                5|\n",
      "|200002|                6|\n",
      "|    51|               21|\n",
      "|   124|               41|\n",
      "|     7|                1|\n",
      "+------+-----------------+\n",
      "only showing top 5 rows\n",
      "\n"
     ]
    }
   ],
   "source": [
    "# Feature n3 : Number of thumbs down\n",
    "Feature_n3 = df.select('userId', 'page').where(df.page == 'Thumbs Down').groupBy('userId').count().withColumnRenamed('count', 'total_thumbs_down')\n",
    "Feature_n3.show(5)"
   ]
  },
  {
   "cell_type": "code",
   "execution_count": 28,
   "metadata": {},
   "outputs": [
    {
     "name": "stdout",
     "output_type": "stream",
     "text": [
      "+------+---------------+\n",
      "|userId|total_thumbs_up|\n",
      "+------+---------------+\n",
      "|100010|             17|\n",
      "|200002|             21|\n",
      "|    51|            100|\n",
      "|   124|            171|\n",
      "|     7|              7|\n",
      "+------+---------------+\n",
      "only showing top 5 rows\n",
      "\n"
     ]
    }
   ],
   "source": [
    "# Feature n4 : Number of thumbs up\n",
    "Feature_n4 = df.select('userId', 'page').where(df.page == 'Thumbs Up').groupBy('userId').count().withColumnRenamed('count', 'total_thumbs_up')\n",
    "Feature_n4.show(5)"
   ]
  },
  {
   "cell_type": "code",
   "execution_count": 29,
   "metadata": {},
   "outputs": [
    {
     "name": "stdout",
     "output_type": "stream",
     "text": [
      "+------+-----+\n",
      "|userId|churn|\n",
      "+------+-----+\n",
      "|    30|    0|\n",
      "|     9|    0|\n",
      "|    30|    0|\n",
      "|     9|    0|\n",
      "|    30|    0|\n",
      "+------+-----+\n",
      "only showing top 5 rows\n",
      "\n"
     ]
    }
   ],
   "source": [
    "# Feature n5 : User Churn\n",
    "Feature_churn = df.select(\"userId\", \"churn\").dropDuplicates()\n",
    "Feature_n5 = df.select(\"userId\", Feature_churn.churn.cast(\"int\"))\n",
    "Feature_n5.show(5)"
   ]
  },
  {
   "cell_type": "code",
   "execution_count": 30,
   "metadata": {},
   "outputs": [
    {
     "name": "stdout",
     "output_type": "stream",
     "text": [
      "+------+------------------+\n",
      "|userId|Average_Song_Count|\n",
      "+------+------------------+\n",
      "|    10|112.16666666666667|\n",
      "|   100| 78.88235294117646|\n",
      "|100001|             33.25|\n",
      "|100002|             48.75|\n",
      "|100003|              25.5|\n",
      "+------+------------------+\n",
      "only showing top 5 rows\n",
      "\n"
     ]
    }
   ],
   "source": [
    "# Feature n6: Average number of songs listend per session\n",
    "user_by_session = df.filter(df.page==\"NextSong\").groupby(\"userId\", \"sessionId\").count()\n",
    "Feature_n6 = user_by_session.groupby(\"userId\").agg(avg(user_by_session[\"count\"]).alias(\"Average_Song_Count\")).sort(\"userId\")\n",
    "Feature_n6.show(5)"
   ]
  },
  {
   "cell_type": "code",
   "execution_count": 31,
   "metadata": {},
   "outputs": [
    {
     "name": "stdout",
     "output_type": "stream",
     "text": [
      "+------+----------------------+\n",
      "|userId|Total_Artists_Listened|\n",
      "+------+----------------------+\n",
      "|100010|                   252|\n",
      "|200002|                   339|\n",
      "|   125|                     8|\n",
      "|    51|                  1385|\n",
      "|   124|                  2232|\n",
      "+------+----------------------+\n",
      "only showing top 5 rows\n",
      "\n"
     ]
    }
   ],
   "source": [
    "#Feature n7: Number of Artists Listened\n",
    "artist_by_user=df.filter(df.page==\"NextSong\").select(\"userId\", \"artist\").dropDuplicates().groupby(\"userId\").count()\n",
    "Feature_n7 = artist_by_user.withColumnRenamed(\"count\", \"Total_Artists_Listened\")\n",
    "Feature_n7.show(5)"
   ]
  },
  {
   "cell_type": "code",
   "execution_count": 32,
   "metadata": {},
   "outputs": [
    {
     "name": "stdout",
     "output_type": "stream",
     "text": [
      "+------+-----------------------+\n",
      "|userId|Days_Since_Registration|\n",
      "+------+-----------------------+\n",
      "|100010|                     55|\n",
      "|200002|                     70|\n",
      "|   125|                     71|\n",
      "|   124|                    131|\n",
      "|    51|                     19|\n",
      "+------+-----------------------+\n",
      "only showing top 5 rows\n",
      "\n"
     ]
    }
   ],
   "source": [
    "#Feature n8: Days since registered\n",
    "max_timestamp = df.groupby(\"userId\").max(\"ts\").sort(\"userId\")\n",
    "users_by_registration = df.select(\"userId\", \"registration\").dropDuplicates().sort(\"userId\")\n",
    "df_joined=users_by_registration.join(max_timestamp, users_by_registration.userId == max_timestamp.userId)\n",
    "Feature_n8 = df_joined.select(users_by_registration[\"userId\"], ((max_timestamp[\"max(ts)\"]-users_by_registration[\"registration\"])/(1000*60*60*24)).cast('integer').alias(\"Days_Since_Registration\"))\n",
    "\n",
    "Feature_n8.show(5)"
   ]
  },
  {
   "cell_type": "code",
   "execution_count": 33,
   "metadata": {},
   "outputs": [
    {
     "name": "stdout",
     "output_type": "stream",
     "text": [
      "+------+------------------+\n",
      "|userId|Number_of_Sessions|\n",
      "+------+------------------+\n",
      "|100010|                 7|\n",
      "|200002|                 6|\n",
      "|   125|                 1|\n",
      "|    51|                10|\n",
      "|   124|                29|\n",
      "+------+------------------+\n",
      "only showing top 5 rows\n",
      "\n"
     ]
    }
   ],
   "source": [
    "#Feature n9: Number of Sessions\n",
    "Feature_n9 = df.select(\"userId\", \"sessionId\").dropDuplicates().groupby(\"userId\").count().withColumnRenamed(\"count\", \"Number_of_Sessions\")\n",
    "Feature_n9.show(5)"
   ]
  },
  {
   "cell_type": "code",
   "execution_count": 34,
   "metadata": {},
   "outputs": [
    {
     "name": "stdout",
     "output_type": "stream",
     "text": [
      "+------+-----+\n",
      "|userId|level|\n",
      "+------+-----+\n",
      "|100010|  0.0|\n",
      "|200002|  0.0|\n",
      "|   125|  0.0|\n",
      "|   124|  1.0|\n",
      "|    51|  1.0|\n",
      "|     7|  0.0|\n",
      "|    15|  1.0|\n",
      "|    54|  1.0|\n",
      "|   155|  0.0|\n",
      "|100014|  1.0|\n",
      "+------+-----+\n",
      "only showing top 10 rows\n",
      "\n"
     ]
    }
   ],
   "source": [
    "#Feature n10: User Level\n",
    "#extract level feature\n",
    "Feature_n10 = df.dropDuplicates(['userId']).select(['userId','level']).replace(['paid','free'], ['1', '0'])\n",
    "Feature_n10 = Feature_n10.withColumn('level', Feature_n10.level.cast(\"float\"))\n",
    "Feature_n10.show(10)"
   ]
  },
  {
   "cell_type": "code",
   "execution_count": 35,
   "metadata": {},
   "outputs": [
    {
     "name": "stdout",
     "output_type": "stream",
     "text": [
      "+------+-------------------+-----------------+---------------+-----+------------------+----------------------+-----------------------+------------------+-----+\n",
      "|gender|total_time_listened|total_thumbs_down|total_thumbs_up|level|Average_Song_Count|Total_Artists_Listened|Days_Since_Registration|Number_of_Sessions|churn|\n",
      "+------+-------------------+-----------------+---------------+-----+------------------+----------------------+-----------------------+------------------+-----+\n",
      "|     0|  66940.89735000003|                5|             17|  0.0|39.285714285714285|                   252|                     55|                 7|    0|\n",
      "|     0|  66940.89735000003|                5|             17|  0.0|39.285714285714285|                   252|                     55|                 7|    0|\n",
      "|     0|  66940.89735000003|                5|             17|  0.0|39.285714285714285|                   252|                     55|                 7|    0|\n",
      "|     0|  66940.89735000003|                5|             17|  0.0|39.285714285714285|                   252|                     55|                 7|    0|\n",
      "|     0|  66940.89735000003|                5|             17|  0.0|39.285714285714285|                   252|                     55|                 7|    0|\n",
      "+------+-------------------+-----------------+---------------+-----+------------------+----------------------+-----------------------+------------------+-----+\n",
      "only showing top 5 rows\n",
      "\n"
     ]
    }
   ],
   "source": [
    "# Merging all features by userId to create the features dataset\n",
    "\n",
    "features_dataset = Feature_n1.join(Feature_n2, 'userId', 'inner').join(Feature_n3, 'userId', 'inner').join(Feature_n4, 'userId', 'inner')\\\n",
    "             .join(Feature_n10, 'userId', 'inner').join(Feature_n6, 'userId', 'inner').join(Feature_n7, 'userId', 'inner')\\\n",
    "             .join(Feature_n8, 'userId', 'inner').join(Feature_n9, 'userId', 'inner').join(Feature_n5, 'userId', 'inner').drop(\"userId\")\n",
    "\n",
    "features_dataset.show(5)"
   ]
  },
  {
   "cell_type": "markdown",
   "metadata": {},
   "source": [
    "# Modeling\n",
    "Split the full dataset into train, test, and validation sets. Test out several of the machine learning methods you learned. Evaluate the accuracy of the various models, tuning parameters as necessary. Determine your winning model based on test accuracy and report results on the validation set. Since the churned users are a fairly small subset, I suggest using F1 score as the metric to optimize."
   ]
  },
  {
   "cell_type": "code",
   "execution_count": 36,
   "metadata": {},
   "outputs": [],
   "source": [
    "#Putting features to be trained in a vector\n",
    "assembler = VectorAssembler(inputCols=features_dataset.columns[0:-1], outputCol=\"Features\")\n",
    "data = assembler.transform(features_dataset)"
   ]
  },
  {
   "cell_type": "code",
   "execution_count": 37,
   "metadata": {},
   "outputs": [
    {
     "name": "stdout",
     "output_type": "stream",
     "text": [
      "+------+-------------------+-----------------+---------------+-----+------------------+----------------------+-----------------------+------------------+-----+--------------------+\n",
      "|gender|total_time_listened|total_thumbs_down|total_thumbs_up|level|Average_Song_Count|Total_Artists_Listened|Days_Since_Registration|Number_of_Sessions|churn|            Features|\n",
      "+------+-------------------+-----------------+---------------+-----+------------------+----------------------+-----------------------+------------------+-----+--------------------+\n",
      "|     0|  66940.89735000003|                5|             17|  0.0|39.285714285714285|                   252|                     55|                 7|    0|[0.0,66940.897350...|\n",
      "|     0|  66940.89735000003|                5|             17|  0.0|39.285714285714285|                   252|                     55|                 7|    0|[0.0,66940.897350...|\n",
      "|     0|  66940.89735000003|                5|             17|  0.0|39.285714285714285|                   252|                     55|                 7|    0|[0.0,66940.897350...|\n",
      "|     0|  66940.89735000003|                5|             17|  0.0|39.285714285714285|                   252|                     55|                 7|    0|[0.0,66940.897350...|\n",
      "|     0|  66940.89735000003|                5|             17|  0.0|39.285714285714285|                   252|                     55|                 7|    0|[0.0,66940.897350...|\n",
      "+------+-------------------+-----------------+---------------+-----+------------------+----------------------+-----------------------+------------------+-----+--------------------+\n",
      "only showing top 5 rows\n",
      "\n"
     ]
    }
   ],
   "source": [
    "data.show(5)"
   ]
  },
  {
   "cell_type": "code",
   "execution_count": 38,
   "metadata": {},
   "outputs": [
    {
     "data": {
      "text/plain": [
       "['gender',\n",
       " 'total_time_listened',\n",
       " 'total_thumbs_down',\n",
       " 'total_thumbs_up',\n",
       " 'level',\n",
       " 'Average_Song_Count',\n",
       " 'Total_Artists_Listened',\n",
       " 'Days_Since_Registration',\n",
       " 'Number_of_Sessions']"
      ]
     },
     "execution_count": 38,
     "metadata": {},
     "output_type": "execute_result"
    }
   ],
   "source": [
    "features_dataset.columns[0:-1]"
   ]
  },
  {
   "cell_type": "code",
   "execution_count": 39,
   "metadata": {},
   "outputs": [],
   "source": [
    "#running standard scaler with \"withStd=True\" to standardise features\n",
    "scaler = StandardScaler(inputCol=\"Features\", outputCol=\"ScaledFeatures\", withStd=True)\n",
    "scalerModel = scaler.fit(data)\n",
    "data = scalerModel.transform(data)"
   ]
  },
  {
   "cell_type": "code",
   "execution_count": 40,
   "metadata": {},
   "outputs": [
    {
     "name": "stdout",
     "output_type": "stream",
     "text": [
      "+-----+-----------------------------------------------------------------------------------------------------------------------------------------------+\n",
      "|label|features                                                                                                                                       |\n",
      "+-----+-----------------------------------------------------------------------------------------------------------------------------------------------+\n",
      "|0    |[0.0,0.1550619159214412,0.25951960431973276,0.16805123840296501,0.0,0.9779467094408741,0.3268700195848462,1.3608463664364845,0.281695302605458]|\n",
      "|0    |[0.0,0.1550619159214412,0.25951960431973276,0.16805123840296501,0.0,0.9779467094408741,0.3268700195848462,1.3608463664364845,0.281695302605458]|\n",
      "|0    |[0.0,0.1550619159214412,0.25951960431973276,0.16805123840296501,0.0,0.9779467094408741,0.3268700195848462,1.3608463664364845,0.281695302605458]|\n",
      "|0    |[0.0,0.1550619159214412,0.25951960431973276,0.16805123840296501,0.0,0.9779467094408741,0.3268700195848462,1.3608463664364845,0.281695302605458]|\n",
      "|0    |[0.0,0.1550619159214412,0.25951960431973276,0.16805123840296501,0.0,0.9779467094408741,0.3268700195848462,1.3608463664364845,0.281695302605458]|\n",
      "+-----+-----------------------------------------------------------------------------------------------------------------------------------------------+\n",
      "only showing top 5 rows\n",
      "\n"
     ]
    }
   ],
   "source": [
    "#Selecting Churn and features and renaming to run our models\n",
    "data = data.select(data.churn.alias('label'), data.ScaledFeatures.alias('features'))\n",
    "data.show(5, False)"
   ]
  },
  {
   "cell_type": "markdown",
   "metadata": {},
   "source": [
    "### Creating training and validation sets"
   ]
  },
  {
   "cell_type": "code",
   "execution_count": 41,
   "metadata": {},
   "outputs": [],
   "source": [
    "train, validation = data.randomSplit([0.9, 0.1], seed=42)\n",
    "train = train.cache()"
   ]
  },
  {
   "cell_type": "markdown",
   "metadata": {},
   "source": [
    "# Comparing GBT VS SVM Classification Models to get best F1 Score and Accuracy"
   ]
  },
  {
   "cell_type": "code",
   "execution_count": 42,
   "metadata": {},
   "outputs": [],
   "source": [
    "#GBT\n",
    "GBT_Classifier = GBTClassifier(maxIter = 10, maxDepth = 10, seed = 42)\n",
    "f1_score = MulticlassClassificationEvaluator(metricName = 'f1')\n",
    "param = ParamGridBuilder().build()\n",
    "crossv_gbt = CrossValidator(estimator = GBT_Classifier, estimatorParamMaps = param, evaluator = f1_score, numFolds = 2)\n",
    "gbt_model = crossv_gbt.fit(train)"
   ]
  },
  {
   "cell_type": "code",
   "execution_count": 43,
   "metadata": {},
   "outputs": [
    {
     "data": {
      "text/plain": [
       "[1.0]"
      ]
     },
     "execution_count": 43,
     "metadata": {},
     "output_type": "execute_result"
    }
   ],
   "source": [
    "gbt_model.avgMetrics"
   ]
  },
  {
   "cell_type": "code",
   "execution_count": 44,
   "metadata": {},
   "outputs": [
    {
     "name": "stdout",
     "output_type": "stream",
     "text": [
      "GBT F1 score 0.9996389569516095 \n",
      "GBT Accuracy 0.9996391194514616 \n"
     ]
    }
   ],
   "source": [
    "# GBT Evaluation Metrics\n",
    "gbt_results = gbt_model.transform(validation)\n",
    "evaluator = MulticlassClassificationEvaluator(predictionCol = \"prediction\")\n",
    "print(\"GBT F1 score {} \".format(evaluator.evaluate(gbt_results, {evaluator.metricName : \"f1\"})))\n",
    "print(\"GBT Accuracy {} \".format(evaluator.evaluate(gbt_results, {evaluator.metricName : \"accuracy\"})))"
   ]
  },
  {
   "cell_type": "code",
   "execution_count": 42,
   "metadata": {},
   "outputs": [],
   "source": [
    "#SVM\n",
    "SVM_Classifier = LinearSVC(maxIter = 15)\n",
    "f1_score = MulticlassClassificationEvaluator(metricName = 'f1')\n",
    "param = ParamGridBuilder().build()\n",
    "crossv_svm = CrossValidator(estimator = SVM_Classifier, estimatorParamMaps = param, evaluator = f1_score, numFolds = 2)\n",
    "svm_model = crossv_svm.fit(train)"
   ]
  },
  {
   "cell_type": "code",
   "execution_count": 43,
   "metadata": {},
   "outputs": [
    {
     "data": {
      "text/plain": [
       "[0.7651044593904157]"
      ]
     },
     "execution_count": 43,
     "metadata": {},
     "output_type": "execute_result"
    }
   ],
   "source": [
    "svm_model.avgMetrics"
   ]
  },
  {
   "cell_type": "code",
   "execution_count": 44,
   "metadata": {},
   "outputs": [
    {
     "name": "stdout",
     "output_type": "stream",
     "text": [
      "SVM F1 score 0.7642927352706442\n",
      "SVM accuracy 0.8381089859256586\n"
     ]
    }
   ],
   "source": [
    "# SVM Evaluation Metrics\n",
    "svm_results = svm_model.transform(validation)\n",
    "evaluator = MulticlassClassificationEvaluator(predictionCol = \"prediction\")\n",
    "print(\"SVM F1 score {}\".format(evaluator.evaluate(svm_results, {evaluator.metricName : \"f1\"})))\n",
    "print(\"SVM accuracy {}\".format(evaluator.evaluate(svm_results, {evaluator.metricName : \"accuracy\"})))"
   ]
  },
  {
   "cell_type": "markdown",
   "metadata": {},
   "source": [
    "## Overall view of features by importance"
   ]
  },
  {
   "cell_type": "code",
   "execution_count": 133,
   "metadata": {},
   "outputs": [
    {
     "data": {
      "image/png": "[encoded data removed]",
      "text/plain": [
       "<matplotlib.figure.Figure at 0x7f2434c2c748>"
      ]
     },
     "metadata": {
      "needs_background": "light"
     },
     "output_type": "display_data"
    }
   ],
   "source": [
    "#gbt_1 = GBTClassifier(maxIter=10,seed=42, maxDepth=10)\n",
    "#gbt_model_2 = gbt_1.fit(train)\n",
    "feature_importance = gbt_model_2.featureImportances.values\n",
    "cols = ['gender',\n",
    " 'total_time_listened',\n",
    " 'total_thumbs_down',\n",
    " 'total_thumbs_up',\n",
    " 'level',\n",
    " 'Average_Song_Count',\n",
    " 'Total_Artists_Listened',\n",
    " 'Days_Since_Registration',\n",
    " 'Number_of_Sessions']\n",
    "d = {'cols':cols,'features':feature_importance}\n",
    "d=pd.DataFrame(d)\n",
    "plt.figure(figsize=(10,6))\n",
    "# make barplot and sort bars\n",
    "sns.barplot(x='cols', y=\"features\", data=d,\n",
    "            order=d.sort_values('features').cols)\n",
    "plt.xlabel('Features')\n",
    "plt.ylabel('Score')\n",
    "plt.xticks(rotation=35)\n",
    "plt.title('Feature Importance Overview');"
   ]
  },
  {
   "cell_type": "markdown",
   "metadata": {},
   "source": [
    "Besides taking a longer run time, GBT boasts an astonishing F1 Score of 0.99 and accuracy of 0.99 compared to the 0.76 F1 and 0.83 accuracy of SVM"
   ]
  },
  {
   "cell_type": "markdown",
   "metadata": {},
   "source": [
    "### Results\n",
    "\n",
    "We have studied the sparkify mini dataset, cleaned and analysed the dataset and we came up with 9 features to use for our models. We compared the \"Support Vector Machine\" (SVM) versus the \"Gradient Boosting Trees\" (GBT) models and chose to utilise GBT to predict churn due to its perfect accuracy and F1 score of 0.99. We then used the \"featuresimportance\" attribute of GBT to plot all features by their importance score in the model.\n",
    "From the chart, we can see  that the number of days since registration plays a very important role. This might indicate that users tend to leave the service within the first few days after signing up. We might want to improve our customer onboarding flows and show users why they need this service instead of the competition.\n",
    "The amount of thumbs down also has an high importance score. This might be an hint that our reccomendation engine is suggesting the wrong songs to our new customers.\n",
    " \n",
    "### Improvements\n",
    "Here are a few ways this model can be improved:\n",
    "\n",
    "1- For this analysis we used the mini sparkify dataset however exploring the bigger Sparkify dataset might be interesting to see if we can come with the same accuracy.\n",
    "\n",
    "2- The model could be trained for a few weeks and used to predict the chance of users churning in the future. The population of users churning identified by the model can then be targeted with messages and offers.\n",
    "\n",
    "3- We could take another approach and find out the users who are going to downgrade from paid to free and target those with additional offers or try to identify the factors that are leading to the downgrades"
   ]
  },
  {
   "cell_type": "code",
   "execution_count": null,
   "metadata": {},
   "outputs": [],
   "source": []
  }
 ],
 "metadata": {
  "kernelspec": {
   "display_name": "Python 3",
   "language": "python",
   "name": "python3"
  },
  "language_info": {
   "codemirror_mode": {
    "name": "ipython",
    "version": 3
   },
   "file_extension": ".py",
   "mimetype": "text/x-python",
   "name": "python",
   "nbconvert_exporter": "python",
   "pygments_lexer": "ipython3",
   "version": "3.6.3"
  }
 },
 "nbformat": 4,
 "nbformat_minor": 2
}
